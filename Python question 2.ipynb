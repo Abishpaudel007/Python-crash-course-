{
 "cells": [
  {
   "cell_type": "code",
   "execution_count": 2,
   "id": "fa3ab0a7-a97d-43b2-ab95-fa8fd80c21ce",
   "metadata": {},
   "outputs": [
    {
     "name": "stdout",
     "output_type": "stream",
     "text": [
      "Welcome! Today's date and time is: 2024-05-13 09:58:14.343922\n"
     ]
    }
   ],
   "source": [
    "# Write a Python script that prints a welcome message along with the current date and time.\n",
    "# Print a welcome message with the current date and time\n",
    "import datetime\n",
    "print(\"Welcome! Today's date and time is:\", datetime.datetime.now())"
   ]
  },
  {
   "cell_type": "code",
   "execution_count": null,
   "id": "87c32eec",
   "metadata": {},
   "outputs": [],
   "source": []
  },
  {
   "cell_type": "code",
   "execution_count": 1,
   "id": "021998f4-dba7-4dd8-825f-b5ff4a6eaef0",
   "metadata": {},
   "outputs": [
    {
     "name": "stdout",
     "output_type": "stream",
     "text": [
      "1\n",
      "2\n",
      "3\n",
      "4\n",
      "5\n",
      "6\n",
      "7\n",
      "8\n",
      "9\n",
      "10\n"
     ]
    }
   ],
   "source": [
    "# Print a series of numbers from 1 to 10, each on a new line.\n",
    "# Print numbers from 1 to 10\n",
    "for i in range(1, 11):\n",
    "    print(i)"
   ]
  },
  {
   "cell_type": "code",
   "execution_count": 7,
   "id": "0374d942-e676-44ea-be90-25e4dfb2c2b6",
   "metadata": {},
   "outputs": [],
   "source": [
    "# Create variables to store the following information: name (string), age (integer), height (float), and is_student (boolean).\n",
    "# Creating variables of different data types\n",
    "name = \"Pirates\"\n",
    "age = 23\n",
    "height = 5.10\n",
    "is_student = True"
   ]
  },
  {
   "cell_type": "code",
   "execution_count": 5,
   "id": "6b183da1-0e76-4cbb-82dc-66c3e5295310",
   "metadata": {},
   "outputs": [],
   "source": [
    "# Convert a string variable containing a numerical value to an integer or float data type.\n",
    "# Converting string variable to integer or float\n",
    "str_num = \"10\"\n",
    "int_num = int(str_num)\n",
    "float_num = float(str_num)"
   ]
  },
  {
   "cell_type": "code",
   "execution_count": 6,
   "id": "4cd06b09-c408-47f4-8862-d5c42bb61483",
   "metadata": {},
   "outputs": [],
   "source": [
    "# Convert an integer variable to a string data type.\n",
    "# Converting integer variable to string\n",
    "int_value = 123\n",
    "str_value = str(int_value)"
   ]
  },
  {
   "cell_type": "code",
   "execution_count": 2,
   "id": "e6aadb7d-e7b3-4dde-a011-f9ee11997256",
   "metadata": {},
   "outputs": [],
   "source": [
    "# Perform arithmetic operations (addition, subtraction, multiplication, division) on numerical variables.\n",
    "import math\n",
    "\n",
    "# Arithmetic operations\n",
    "result_add = 5 + 3\n",
    "result_sub = 7 - 2\n",
    "result_mul = 4 * 6\n",
    "result_div = 10 / 2"
   ]
  },
  {
   "cell_type": "code",
   "execution_count": 9,
   "id": "e288a683-aadb-4011-8c99-335b1d3015fe",
   "metadata": {},
   "outputs": [
    {
     "name": "stdout",
     "output_type": "stream",
     "text": [
      "5.0\n"
     ]
    }
   ],
   "source": [
    "# Calculate the square root of a number.\n",
    "# Square root\n",
    "sqrt_value = math.sqrt(25)\n",
    "print(sqrt_value)"
   ]
  },
  {
   "cell_type": "code",
   "execution_count": 10,
   "id": "c418089b-3312-41cc-b0e8-35c9cab95b5e",
   "metadata": {},
   "outputs": [
    {
     "name": "stdout",
     "output_type": "stream",
     "text": [
      "Natural logarithm of 10 : 2.302585092994046\n",
      "Logarithm base 10 of 10 : 1.0\n",
      "Logarithm base 2 of 10 : 3.321928094887362\n",
      "Sine of 45 degrees: 0.7071067811865475\n",
      "Cosine of 45 degrees: 0.7071067811865476\n",
      "Tangent of 45 degrees: 0.9999999999999999\n"
     ]
    }
   ],
   "source": [
    "# Use the math module to perform more advanced mathematical operations like calculating logarithms or trigonometric functions.\n",
    "import math\n",
    "\n",
    "# Calculate the natural logarithm (base e) of a number\n",
    "x = 10\n",
    "log_value = math.log(x)\n",
    "print(\"Natural logarithm of\", x, \":\", log_value)\n",
    "\n",
    "# Calculate the logarithm of a number with a specified base (e.g., base 10)\n",
    "log_base_10 = math.log10(x)\n",
    "print(\"Logarithm base 10 of\", x, \":\", log_base_10)\n",
    "\n",
    "# Calculate the logarithm of a number with a specified base (e.g., base 2)\n",
    "log_base_2 = math.log2(x)\n",
    "print(\"Logarithm base 2 of\", x, \":\", log_base_2)\n",
    "\n",
    "# Calculate trigonometric functions (sine, cosine, tangent) in radians\n",
    "angle_radians = math.radians(45)  # Convert angle from degrees to radians\n",
    "sin_value = math.sin(angle_radians)\n",
    "cos_value = math.cos(angle_radians)\n",
    "tan_value = math.tan(angle_radians)\n",
    "print(\"Sine of 45 degrees:\", sin_value)\n",
    "print(\"Cosine of 45 degrees:\", cos_value)\n",
    "print(\"Tangent of 45 degrees:\", tan_value)\n"
   ]
  },
  {
   "cell_type": "code",
   "execution_count": 14,
   "id": "54522d67-f4ca-49b6-927a-6d96d785694d",
   "metadata": {},
   "outputs": [
    {
     "name": "stdout",
     "output_type": "stream",
     "text": [
      "Hello, world!\n"
     ]
    }
   ],
   "source": [
    "# Concatenate two strings to form a new string.\n",
    "# Concatenation\n",
    "message = \"Hello, \" + \"world!\"\n",
    "print(message)"
   ]
  },
  {
   "cell_type": "code",
   "execution_count": 13,
   "id": "c1935a50-b393-4a1a-bbf4-ae9a812f3245",
   "metadata": {},
   "outputs": [
    {
     "name": "stdout",
     "output_type": "stream",
     "text": [
      "is\n"
     ]
    }
   ],
   "source": [
    "# Extract a substring from a given string.\n",
    "# Extract substring\n",
    "sentence = \"This is a sentence.\"\n",
    "substring = sentence[5:7]  # Extracts \"is\"\n",
    "print(substring)"
   ]
  },
  {
   "cell_type": "code",
   "execution_count": 12,
   "id": "e77cc4b2-6f5a-43e7-9d25-6c8f6beba836",
   "metadata": {},
   "outputs": [
    {
     "name": "stdout",
     "output_type": "stream",
     "text": [
      "HELLO\n",
      "world\n"
     ]
    }
   ],
   "source": [
    "# Convert a string to uppercase or lowercase.\n",
    "# Convert to uppercase or lowercase\n",
    "uppercase_str = \"hello\".upper()\n",
    "lowercase_str = \"WORLD\".lower()\n",
    "print(uppercase_str)\n",
    "print(lowercase_str)"
   ]
  },
  {
   "cell_type": "code",
   "execution_count": 16,
   "id": "fb192fda-c46f-4e11-b866-a84b14d20158",
   "metadata": {},
   "outputs": [
    {
     "name": "stdout",
     "output_type": "stream",
     "text": [
      "List of Numbers: [23, 45, 12, 67, 89, 34, 56, 78, 90]\n",
      "Sorted List: [12, 23, 34, 45, 56, 67, 78, 89, 90]\n",
      "Sum of Numbers: 494\n",
      "Mean of Numbers: 54.888888888888886\n",
      "Median of Numbers: 56\n"
     ]
    }
   ],
   "source": [
    "# Create a list of numbers and calculate the sum, mean, and median of the elements.\n",
    "# Create a list of numbers\n",
    "numbers = [23, 45, 12, 67, 89, 34, 56, 78, 90]\n",
    "\n",
    "# Calculate the sum of the elements\n",
    "sum_of_numbers = sum(numbers)\n",
    "\n",
    "# Calculate the mean (average) of the elements\n",
    "mean_of_numbers = sum_of_numbers / len(numbers)\n",
    "\n",
    "# Calculate the median of the elements\n",
    "sorted_numbers = sorted(numbers)\n",
    "n = len(numbers)\n",
    "if n % 2 == 0:\n",
    "    median_index = n // 2\n",
    "    median = (sorted_numbers[median_index - 1] + sorted_numbers[median_index]) / 2\n",
    "else:\n",
    "    median_index = n // 2\n",
    "    median = sorted_numbers[median_index]\n",
    "\n",
    "print(\"List of Numbers:\", numbers)\n",
    "print(\"Sorted List:\", sorted_numbers)\n",
    "print(\"Sum of Numbers:\", sum_of_numbers)\n",
    "print(\"Mean of Numbers:\", mean_of_numbers)\n",
    "print(\"Median of Numbers:\", median)\n"
   ]
  },
  {
   "cell_type": "code",
   "execution_count": 19,
   "id": "5f7470c0-0640-4186-b459-f9493504ad88",
   "metadata": {},
   "outputs": [
    {
     "name": "stdout",
     "output_type": "stream",
     "text": [
      "Sum: 418\n",
      "Mean: 59.714285714285715\n",
      "Sorted List: [10, 20, 30, 45, 51, 62, 200]\n",
      "Median: 45\n"
     ]
    }
   ],
   "source": [
    "# List of numbers\n",
    "numbers = [10, 200, 30, 45, 51, 62,20]\n",
    "\n",
    "# Calculate sum, mean, and median\n",
    "sum_nums = sum(numbers)\n",
    "mean_nums = sum_nums / len(numbers)\n",
    "sorted_nums = sorted(numbers)\n",
    "median_nums = sorted_nums[len(numbers)//2]\n",
    "print(\"Sum:\", sum_nums)\n",
    "print(\"Mean:\", mean_nums)\n",
    "print(\"Sorted List:\", sorted_nums)\n",
    "print(\"Median:\", median_nums)"
   ]
  },
  {
   "cell_type": "code",
   "execution_count": null,
   "id": "26c918f6-3d50-4feb-9dac-91ad39e262bd",
   "metadata": {},
   "outputs": [],
   "source": [
    "# Append new elements to a list.\n"
   ]
  },
  {
   "cell_type": "code",
   "execution_count": null,
   "id": "166479a6-bd27-4fe7-991e-a008de8dcfcd",
   "metadata": {},
   "outputs": [],
   "source": [
    "# Remove duplicate elements from a list.\n"
   ]
  },
  {
   "cell_type": "code",
   "execution_count": 4,
   "id": "25e9bb89-8792-44aa-aed0-f69ce1771545",
   "metadata": {},
   "outputs": [
    {
     "name": "stdout",
     "output_type": "stream",
     "text": [
      "{'name': 'Abish', 'age': 23, 'gender': 'Male'}\n"
     ]
    }
   ],
   "source": [
    "# Create a dictionary representing a person with keys like \"name\", \"age\", and \"gender\".\n",
    "# Dictionary representing a person\n",
    "person = {\"name\": \"Abish\", \"age\": 23, \"gender\": \"Male\"}\n",
    "print(person)"
   ]
  },
  {
   "cell_type": "code",
   "execution_count": 5,
   "id": "8ebd8385-e3e8-4e52-a81d-10375b6cf008",
   "metadata": {},
   "outputs": [
    {
     "name": "stdout",
     "output_type": "stream",
     "text": [
      "{'name': 'Abish', 'age': 23, 'gender': 'Male'}\n"
     ]
    }
   ],
   "source": [
    "# Access and modify values in the dictionary.\n",
    "# Access and modify values\n",
    "person[\"age\"] = 23\n",
    "print(person)"
   ]
  },
  {
   "cell_type": "code",
   "execution_count": null,
   "id": "797bd6eb-819c-42e5-a84f-725746a9c4f4",
   "metadata": {},
   "outputs": [],
   "source": [
    "# Iterate over the key-value pairs in the dictionary and print them.\n",
    "# Iterate over key-value pairs\n",
    "for key, value in person.items():\n",
    "    print(key, \":\", value)"
   ]
  },
  {
   "cell_type": "code",
   "execution_count": 25,
   "id": "03190585-b65b-4503-b8ad-d405fc7cef8d",
   "metadata": {},
   "outputs": [
    {
     "name": "stdout",
     "output_type": "stream",
     "text": [
      "name : John\n",
      "age : 35\n",
      "gender : Male\n"
     ]
    }
   ],
   "source": [
    "# Write Python expressions using boolean operators (and, or, not).\n",
    "# Iterate over key-value pairs\n",
    "for key, value in person.items():\n",
    "    print(key, \":\", value)"
   ]
  },
  {
   "cell_type": "code",
   "execution_count": 26,
   "id": "1f170805-1112-4567-a0c3-29353356316d",
   "metadata": {},
   "outputs": [],
   "source": [
    "# Use boolean variables to control the flow of a program (e.g., in conditional statements or loops).\n"
   ]
  },
  {
   "cell_type": "code",
   "execution_count": 27,
   "id": "8e97c9d2-177c-4b35-af54-a823af9ff14e",
   "metadata": {},
   "outputs": [
    {
     "name": "stdout",
     "output_type": "stream",
     "text": [
      "('apple', 'banana', 'orange')\n"
     ]
    }
   ],
   "source": [
    "# Create a tuple containing the names of different fruits.\n",
    "# Tuple containing fruit names\n",
    "fruits = (\"apple\", \"banana\", \"orange\")\n",
    "print(fruits)\n",
    "\n",
    "\n"
   ]
  },
  {
   "cell_type": "code",
   "execution_count": 29,
   "id": "9359a95a-8073-4a4f-94a3-a4013af829bf",
   "metadata": {},
   "outputs": [
    {
     "name": "stdout",
     "output_type": "stream",
     "text": [
      "apple\n"
     ]
    }
   ],
   "source": [
    "# Access elements of a tuple using indexing.\n",
    "# Access elements using indexing\n",
    "first_fruit = fruits[0]\n",
    "print(first_fruit)"
   ]
  },
  {
   "cell_type": "code",
   "execution_count": 3,
   "id": "acda193a-0b39-4e5f-aaf9-0dc7f37c9c1e",
   "metadata": {},
   "outputs": [
    {
     "name": "stdout",
     "output_type": "stream",
     "text": [
      "{1, 2, 3, 4, 5, 6, 7, 8}\n",
      "{4, 5}\n",
      "{1, 2, 3}\n"
     ]
    }
   ],
   "source": [
    "# Create two sets of numbers and perform set operations like union, intersection, and difference.\n",
    "# Sets of numbers\n",
    "set1 = {1, 2, 3, 4, 5}\n",
    "set2 = {4, 5, 6, 7, 8}\n",
    "\n",
    "# Set operations\n",
    "union_set = set1.union(set2)\n",
    "intersection_set = set1.intersection(set2)\n",
    "difference_set = set1.difference(set2)\n",
    "print(union_set)\n",
    "print(intersection_set)\n",
    "print(difference_set)"
   ]
  },
  {
   "cell_type": "code",
   "execution_count": 3,
   "id": "16cce5ac-2630-4b96-afd5-8834e94cf01e",
   "metadata": {},
   "outputs": [
    {
     "name": "stdout",
     "output_type": "stream",
     "text": [
      "The element 3 exists in the set.\n"
     ]
    }
   ],
   "source": [
    "# Check if a given element exists in a set.\n",
    "# Define a set\n",
    "my_set = {1, 2, 3, 4, 5}\n",
    "\n",
    "# Element to check\n",
    "element = 3\n",
    "\n",
    "# Check if the element exists in the set\n",
    "if element in my_set:\n",
    "    print(f\"The element {element} exists in the set.\")\n",
    "else:\n",
    "    print(f\"The element {element} does not exist in the set.\")\n"
   ]
  },
  {
   "cell_type": "code",
   "execution_count": 4,
   "id": "85591fdf-c3ad-4ff2-a64d-9cab7658b314",
   "metadata": {},
   "outputs": [
    {
     "name": "stdout",
     "output_type": "stream",
     "text": [
      "Original List: [1, 2, 3, 4, 3, 2, 5, 6, 5]\n",
      "List after removing duplicates: [1, 2, 3, 4, 5, 6]\n"
     ]
    }
   ],
   "source": [
    "# Convert a list to a set to remove duplicate elements.\n",
    "# Define a list with duplicate elements\n",
    "my_list = [1, 2, 3, 4, 3, 2, 5, 6, 5]\n",
    "\n",
    "# Convert the list to a set to remove duplicates\n",
    "unique_set = set(my_list)\n",
    "\n",
    "# Convert the set back to a list if needed\n",
    "unique_list = list(unique_set)\n",
    "\n",
    "print(\"Original List:\", my_list)\n",
    "print(\"List after removing duplicates:\", unique_list)\n"
   ]
  },
  {
   "cell_type": "code",
   "execution_count": 33,
   "id": "775e9752-1329-4734-84e3-cb531390d361",
   "metadata": {},
   "outputs": [
    {
     "name": "stdout",
     "output_type": "stream",
     "text": [
      "True\n",
      "False\n",
      "True\n"
     ]
    }
   ],
   "source": [
    "# Write Python expressions using comparison operators (>, <, ==, !=, >=, <=).\n",
    "# Comparison operators\n",
    "greater_than = 5 > 3\n",
    "equal_to = \"hello\" == \"world\"\n",
    "not_equal = 10 != 5\n",
    "print(greater_than)\n",
    "print(equal_to)\n",
    "print(not_equal)"
   ]
  },
  {
   "cell_type": "code",
   "execution_count": 6,
   "id": "5bc201cd-5df2-475b-a9ca-4e8bcb87b56e",
   "metadata": {},
   "outputs": [
    {
     "name": "stdin",
     "output_type": "stream",
     "text": [
      "Enter your age:  23\n"
     ]
    },
    {
     "name": "stdout",
     "output_type": "stream",
     "text": [
      "You are an adult.\n"
     ]
    }
   ],
   "source": [
    "# Write a Python script that asks the user to input their age and prints different messages based on whether they are a child, teenager, adult, or senior citizen.\n",
    "# If-elif-else statements\n",
    "age = int(input(\"Enter your age: \"))\n",
    "if age < 18:\n",
    "    print(\"You are a child.\")\n",
    "elif age < 65:\n",
    "    print(\"You are an adult.\")\n",
    "else:\n",
    "    print(\"You are a senior citizen.\")\n"
   ]
  },
  {
   "cell_type": "code",
   "execution_count": null,
   "id": "5fd0849d-ec7d-4484-97e9-fe2191dfe251",
   "metadata": {},
   "outputs": [],
   "source": [
    "# Implement a grading system that assigns letter grades (A, B, C, D, F) based on numerical scores.\n"
   ]
  },
  {
   "cell_type": "code",
   "execution_count": 36,
   "id": "c78aba4f-8591-4a14-ae34-a949e06d202e",
   "metadata": {},
   "outputs": [
    {
     "name": "stdout",
     "output_type": "stream",
     "text": [
      "1\n",
      "4\n",
      "9\n",
      "16\n",
      "25\n",
      "36\n",
      "49\n",
      "64\n",
      "81\n",
      "100\n"
     ]
    }
   ],
   "source": [
    "# For loop to print squares of numbers\n",
    "for i in range(1, 11):\n",
    "    print(i * i)\n"
   ]
  },
  {
   "cell_type": "code",
   "execution_count": 1,
   "id": "1ab8fa1c-8db0-48c9-b2bb-8f4ad82816ff",
   "metadata": {},
   "outputs": [
    {
     "name": "stdout",
     "output_type": "stream",
     "text": [
      "5\n",
      "6\n",
      "6\n"
     ]
    }
   ],
   "source": [
    "# Iterate over a list of strings and print the length of each string.\n",
    "# For loop to print length of strings\n",
    "strings = [\"apple\", \"banana\", \"orange\"]\n",
    "for s in strings:\n",
    "    print(len(s))\n"
   ]
  },
  {
   "cell_type": "code",
   "execution_count": 42,
   "id": "164882a3-7625-4c09-96f8-9d3d8fef7b84",
   "metadata": {},
   "outputs": [
    {
     "name": "stdout",
     "output_type": "stream",
     "text": [
      "Guess the number (1-10):  7\n",
      "Guess the number (1-10):  8\n",
      "Guess the number (1-10):  10\n",
      "Guess the number (1-10):  1\n",
      "Guess the number (1-10):  2\n",
      "Guess the number (1-10):  3\n",
      "Guess the number (1-10):  4\n"
     ]
    },
    {
     "name": "stdout",
     "output_type": "stream",
     "text": [
      "Congratulations! You guessed it correctly.\n"
     ]
    }
   ],
   "source": [
    "# Use a while loop to calculate the factorial of a given number.\n",
    "# While loop to repeatedly guess a number\n",
    "import random\n",
    "\n",
    "target = random.randint(1, 10)\n",
    "guess = 8\n",
    "while guess != target:\n",
    "    guess = int(input(\"Guess the number (1-10): \"))\n",
    "print(\"Congratulations! You guessed it correctly.\")"
   ]
  },
  {
   "cell_type": "code",
   "execution_count": 2,
   "id": "beb8ef71-36ae-420e-a413-63521c857495",
   "metadata": {},
   "outputs": [
    {
     "name": "stdout",
     "output_type": "stream",
     "text": [
      "Enter a number:  5\n"
     ]
    },
    {
     "name": "stdout",
     "output_type": "stream",
     "text": [
      "Factorial: 120\n"
     ]
    }
   ],
   "source": [
    "# While loop to calculate factorial\n",
    "num = int(input(\"Enter a number: \"))\n",
    "factorial = 1\n",
    "while num > 0:\n",
    "    factorial *= num\n",
    "    num -= 1\n",
    "print(\"Factorial:\", factorial)"
   ]
  },
  {
   "cell_type": "code",
   "execution_count": 8,
   "id": "c3910825-de92-4c87-8917-d1d0462849c5",
   "metadata": {},
   "outputs": [
    {
     "name": "stdout",
     "output_type": "stream",
     "text": [
      "0\n",
      "1\n",
      "2\n",
      "3\n",
      "4\n",
      "5\n",
      "6\n",
      "7\n",
      "8\n",
      "9\n"
     ]
    }
   ],
   "source": [
    "# Let's range \n",
    "for i in range (10):\n",
    "    print(i)\n",
    "    "
   ]
  },
  {
   "cell_type": "code",
   "execution_count": 9,
   "id": "25e56c45-a55f-4a8e-bd47-dbc895b59b9b",
   "metadata": {},
   "outputs": [
    {
     "name": "stdout",
     "output_type": "stream",
     "text": [
      "3\n",
      "4\n"
     ]
    }
   ],
   "source": [
    "for i in range (3,5):\n",
    "    print(i)\n",
    "    "
   ]
  },
  {
   "cell_type": "code",
   "execution_count": 11,
   "id": "7584ee61-7bcd-4528-a8ed-0b17b6bcaf22",
   "metadata": {},
   "outputs": [
    {
     "name": "stdout",
     "output_type": "stream",
     "text": [
      "0\n",
      "2\n",
      "4\n",
      "6\n",
      "8\n",
      "10\n"
     ]
    }
   ],
   "source": [
    "#Even number from 1 to 10\n",
    "for i in range (0,11,2):\n",
    "    print(i)\n",
    "    "
   ]
  },
  {
   "cell_type": "code",
   "execution_count": null,
   "id": "1d70a215-82be-4f83-9753-e80360d6ecac",
   "metadata": {},
   "outputs": [],
   "source": [
    "#Odd n'umber from 1 to 10 and 20 to 11\n",
    "print("
   ]
  },
  {
   "cell_type": "code",
   "execution_count": 15,
   "id": "31d88fca-7252-4714-bdc7-5d71112e485c",
   "metadata": {},
   "outputs": [
    {
     "name": "stdout",
     "output_type": "stream",
     "text": [
      "KGF : 9\n",
      "don : 10\n",
      "Insception : 9\n"
     ]
    }
   ],
   "source": [
    "#Let's use disctionary \n",
    "fav_movie = {\n",
    "    \"KGF\":9,\n",
    "    \"don\":10,\n",
    "    \"Insception\":9\n",
    "}\n",
    "for key, value in fav_movie.items():\n",
    "    print (key,\":\",value)"
   ]
  },
  {
   "cell_type": "code",
   "execution_count": null,
   "id": "990bb3ec-32e4-410e-88c6-c45bef7a2176",
   "metadata": {},
   "outputs": [],
   "source": [
    "# Let's learn about while loop\n"
   ]
  },
  {
   "cell_type": "code",
   "execution_count": null,
   "id": "917ca12c-3cb8-4795-ade4-3a11697e8868",
   "metadata": {},
   "outputs": [],
   "source": [
    "#Find the sum of numbers 1 to 10 using while loops\n",
    "sum = 0\n"
   ]
  },
  {
   "cell_type": "code",
   "execution_count": 41,
   "id": "cae3edc3-507b-4892-9182-ac1ce9683dfa",
   "metadata": {},
   "outputs": [
    {
     "ename": "IndentationError",
     "evalue": "unindent does not match any outer indentation level (<tokenize>, line 8)",
     "output_type": "error",
     "traceback": [
      "\u001b[1;36m  File \u001b[1;32m<tokenize>:8\u001b[1;36m\u001b[0m\n\u001b[1;33m    print(\"The sum of numbers 1 to 10 even numbers only:\", sum)\u001b[0m\n\u001b[1;37m    ^\u001b[0m\n\u001b[1;31mIndentationError\u001b[0m\u001b[1;31m:\u001b[0m unindent does not match any outer indentation level\n"
     ]
    }
   ],
   "source": [
    "#Find the sum of numbers 1 to 10 even numbers only \n",
    "sum = 0\n",
    "num = 1\n",
    "   while num <= 10:\n",
    "      if num % 2 == 0:\n",
    "        sum += num \n",
    "      num += 1 \n",
    " print(\"The sum of numbers 1 to 10 even numbers only:\", sum)\n"
   ]
  },
  {
   "cell_type": "code",
   "execution_count": null,
   "id": "9a8b46e0-38d4-4521-9c9c-5d7b471e6a8b",
   "metadata": {},
   "outputs": [],
   "source": []
  },
  {
   "cell_type": "code",
   "execution_count": 20,
   "id": "27555bbe-0748-4615-9500-567c9e95fac8",
   "metadata": {},
   "outputs": [
    {
     "name": "stdout",
     "output_type": "stream",
     "text": [
      "The factorial of 5 is: 120\n"
     ]
    }
   ],
   "source": [
    "# Find the factorial of 5\n",
    "number = 5\n",
    "factorial = 1\n",
    "while number > 0:\n",
    "    factorial *= number\n",
    "    number -= 1\n",
    "print(\"The factorial of 5 is:\", factorial)"
   ]
  },
  {
   "cell_type": "code",
   "execution_count": 24,
   "id": "208415a6-b347-4242-a3ac-a93bbb7673d7",
   "metadata": {},
   "outputs": [
    {
     "name": "stdout",
     "output_type": "stream",
     "text": [
      "Reversed string: setariP\n"
     ]
    }
   ],
   "source": [
    "# Reverse the string using while loop \n",
    "input_string = \"Pirates\"\n",
    "length = len(input_string)\n",
    "reversed_string = \"\"\n",
    "while length > 0:\n",
    "    reversed_string += input_string[length - 1]\n",
    "    length -= 1\n",
    "print(\"Reversed string:\", reversed_string)"
   ]
  },
  {
   "cell_type": "code",
   "execution_count": 27,
   "id": "b4445122-42fd-4e5d-ba41-ec8fb627aa9c",
   "metadata": {},
   "outputs": [],
   "source": [
    "# Function: Let's Greet first \n",
    "def greet():\n",
    "    print(\"Hellow\"); \"Hello\"\n",
    "    "
   ]
  },
  {
   "cell_type": "code",
   "execution_count": null,
   "id": "9746d9cc-78c7-4d08-9caa-f6fba0555a5f",
   "metadata": {},
   "outputs": [],
   "source": []
  }
 ],
 "metadata": {
  "kernelspec": {
   "display_name": "Python 3 (ipykernel)",
   "language": "python",
   "name": "python3"
  },
  "language_info": {
   "codemirror_mode": {
    "name": "ipython",
    "version": 3
   },
   "file_extension": ".py",
   "mimetype": "text/x-python",
   "name": "python",
   "nbconvert_exporter": "python",
   "pygments_lexer": "ipython3",
   "version": "3.11.7"
  }
 },
 "nbformat": 4,
 "nbformat_minor": 5
}
